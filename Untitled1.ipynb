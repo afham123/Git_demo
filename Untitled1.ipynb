{
 "cells": [
  {
   "cell_type": "markdown",
   "metadata": {},
   "source": [
    "## Importing libraries"
   ]
  },
  {
   "cell_type": "code",
   "execution_count": 1,
   "metadata": {},
   "outputs": [],
   "source": [
    "import re\n",
    "import requests\n",
    "import urllib.request\n",
    "import time\n",
    "import seaborn as sns\n",
    "from bs4 import BeautifulSoup\n",
    "import numpy as np\n",
    "import pandas as pd\n",
    "import matplotlib.pyplot as plt\n",
    "from urllib.request import urlopen\n",
    "from html_table_parser import HTMLTableParser"
   ]
  },
  {
   "cell_type": "code",
   "execution_count": 2,
   "metadata": {},
   "outputs": [],
   "source": [
    "url = \"https://www.flipkart.com/search?q=python%20books&otracker=search&otracker1=search&marketplace=FLIPKART&as-show=on&as=off\";"
   ]
  },
  {
   "cell_type": "markdown",
   "metadata": {},
   "source": [
    "### function to return links different pages that displays books."
   ]
  },
  {
   "cell_type": "code",
   "execution_count": 4,
   "metadata": {},
   "outputs": [],
   "source": [
    "def get_page_link(page_url):    \n",
    "    link_list = []\n",
    "    for i in range(5):\n",
    "        html = urlopen(page_url) \n",
    "        soup = BeautifulSoup(html, 'html.parser')\n",
    "        for a in soup.find_all(\"a\", {\"class\": {'ge-49M'}},href=True):\n",
    "            if 'https://www.flipkart.com'+a['href'] in link_list:\n",
    "                continue\n",
    "            link_list.append('https://www.flipkart.com'+a['href'])\n",
    "        page_url=link_list[-1]\n",
    "    return link_list"
   ]
  },
  {
   "cell_type": "markdown",
   "metadata": {},
   "source": [
    "### function to return the data-frame of books data"
   ]
  },
  {
   "cell_type": "code",
   "execution_count": 8,
   "metadata": {},
   "outputs": [],
   "source": [
    "def data_tabel(link):    \n",
    "    html = urlopen(link) \n",
    "    soup = BeautifulSoup(html, 'html.parser')\n",
    "    item_price = soup.findAll(\"div\", {\"class\": {'_30jeq3'}})\n",
    "\n",
    "    mrp = []\n",
    "    for price in item_price[:40]:\n",
    "        mrp.append(price.text)\n",
    "        \n",
    "    abc = soup.findAll(\"a\", {\"class\": {'s1Q9rs'}})\n",
    "    titlelist=[]\n",
    "    for title in abc:\n",
    "        titlelist.append(title.text)\n",
    "        \n",
    "    abc = soup.findAll(\"span\", {\"class\": {'_2_R_DZ'}})\n",
    "    ratinglist = rate(link)\n",
    "    \n",
    "        \n",
    "    return pd.DataFrame({'Title':titlelist,'MRP Price':mrp,'Rating':ratinglist})"
   ]
  },
  {
   "cell_type": "markdown",
   "metadata": {},
   "source": [
    "### Function that return ratings of different books"
   ]
  },
  {
   "cell_type": "code",
   "execution_count": 15,
   "metadata": {},
   "outputs": [],
   "source": [
    "def rate(url):\n",
    "    html = urlopen(url) \n",
    "    soup = BeautifulSoup(html, 'html.parser')\n",
    "    page = soup.findAll(\"div\", {\"class\": {'_4ddWXP'}})\n",
    "    l=[]\n",
    "    for p in page:\n",
    "        l.append('_2_R_DZ' in str(p))\n",
    "\n",
    "    abc = soup.findAll(\"span\", {\"class\": {'_2_R_DZ'}})\n",
    "    ratinglist=[]\n",
    "    for rating in abc:\n",
    "        ratinglist.append(rm(rating.text))\n",
    "        \n",
    "    res = []\n",
    "    ratinglist.reverse()\n",
    "    for x in l:\n",
    "        if x:\n",
    "            res.append(ratinglist.pop())\n",
    "        else:\n",
    "            res.append(' ')\n",
    "            \n",
    "    return res"
   ]
  },
  {
   "cell_type": "markdown",
   "metadata": {},
   "source": [
    "### Function that returns the number from the string using re"
   ]
  },
  {
   "cell_type": "code",
   "execution_count": 6,
   "metadata": {},
   "outputs": [],
   "source": [
    "def rm(string): \n",
    "    new_string = re.sub(r\"[^0-9]\", \"\", string)\n",
    "    return new_string"
   ]
  },
  {
   "cell_type": "markdown",
   "metadata": {},
   "source": [
    "## Driver function"
   ]
  },
  {
   "cell_type": "code",
   "execution_count": 27,
   "metadata": {},
   "outputs": [],
   "source": [
    "def main(page_url):\n",
    "    print('Data Started Downloading It will take some time')\n",
    "    page_link_list = get_page_link(page_url)\n",
    "    result = pd.DataFrame()\n",
    "    for link in page_link_list[:10]:\n",
    "        \n",
    "        df = data_tabel(link)        \n",
    "        result = pd.concat([result,df], axis = 0).reset_index().drop('index',axis=1)\n",
    "        \n",
    "    return result"
   ]
  },
  {
   "cell_type": "code",
   "execution_count": 28,
   "metadata": {},
   "outputs": [
    {
     "name": "stdout",
     "output_type": "stream",
     "text": [
      "Data Started Downloading It will take some time\n"
     ]
    }
   ],
   "source": [
    "df = main(url)"
   ]
  },
  {
   "cell_type": "markdown",
   "metadata": {},
   "source": [
    "### Data Cleaning"
   ]
  },
  {
   "cell_type": "code",
   "execution_count": null,
   "metadata": {},
   "outputs": [],
   "source": [
    "df['MRP Price'] = df['MRP Price'].map(lambda x : int(rm(x)))\n",
    "df['Rating'] = df['Rating'].map(lambda x: 0 if x ==' ' else int(x))"
   ]
  },
  {
   "cell_type": "markdown",
   "metadata": {},
   "source": [
    "### Checking out data"
   ]
  },
  {
   "cell_type": "code",
   "execution_count": 57,
   "metadata": {},
   "outputs": [
    {
     "name": "stdout",
     "output_type": "stream",
     "text": [
      "<class 'pandas.core.frame.DataFrame'>\n",
      "RangeIndex: 400 entries, 0 to 399\n",
      "Data columns (total 3 columns):\n",
      " #   Column     Non-Null Count  Dtype \n",
      "---  ------     --------------  ----- \n",
      " 0   Title      400 non-null    object\n",
      " 1   MRP Price  400 non-null    int64 \n",
      " 2   Rating     400 non-null    int64 \n",
      "dtypes: int64(2), object(1)\n",
      "memory usage: 9.5+ KB\n"
     ]
    }
   ],
   "source": [
    "\n",
    "df.info()"
   ]
  },
  {
   "cell_type": "markdown",
   "metadata": {},
   "source": [
    "### Saving the data"
   ]
  },
  {
   "cell_type": "code",
   "execution_count": null,
   "metadata": {},
   "outputs": [],
   "source": [
    "df.to_csv('data.csv',index=False)"
   ]
  },
  {
   "cell_type": "markdown",
   "metadata": {},
   "source": [
    "### EDA"
   ]
  },
  {
   "cell_type": "code",
   "execution_count": 35,
   "metadata": {},
   "outputs": [
    {
     "data": {
      "text/plain": [
       "<AxesSubplot:xlabel='MRP Price', ylabel='Count'>"
      ]
     },
     "execution_count": 35,
     "metadata": {},
     "output_type": "execute_result"
    },
    {
     "data": {
      "image/png": "[encoded data removed]",
      "text/plain": [
       "<Figure size 432x288 with 1 Axes>"
      ]
     },
     "metadata": {
      "needs_background": "light"
     },
     "output_type": "display_data"
    }
   ],
   "source": [
    "sns.histplot(df['MRP Price'])"
   ]
  },
  {
   "cell_type": "code",
   "execution_count": 58,
   "metadata": {},
   "outputs": [
    {
     "data": {
      "text/plain": [
       "<AxesSubplot:xlabel='Rating', ylabel='Count'>"
      ]
     },
     "execution_count": 58,
     "metadata": {},
     "output_type": "execute_result"
    },
    {
     "data": {
      "image/png": "[encoded data removed]",
      "text/plain": [
       "<Figure size 432x288 with 1 Axes>"
      ]
     },
     "metadata": {
      "needs_background": "light"
     },
     "output_type": "display_data"
    }
   ],
   "source": [
    "sns.histplot(df['Rating'])"
   ]
  },
  {
   "cell_type": "code",
   "execution_count": 67,
   "metadata": {},
   "outputs": [
    {
     "name": "stdout",
     "output_type": "stream",
     "text": [
      "The book with maximum rating is  Core Python Programming - Covers Fundamentals to Advanc...\n",
      "And the rating was 1378\n"
     ]
    }
   ],
   "source": [
    "print('The book with maximum rating is ', df['Title'][df['Rating'].argmax()])\n",
    "print('And the rating was', df['Rating'].max())"
   ]
  },
  {
   "cell_type": "code",
   "execution_count": 68,
   "metadata": {},
   "outputs": [
    {
     "name": "stdout",
     "output_type": "stream",
     "text": [
      "The book with maximum rating is  Python for Bioinformatics\n",
      "And the rating was 11784\n"
     ]
    }
   ],
   "source": [
    "print('The book with maximum rating is ', df['Title'][df['MRP Price'].argmax()])\n",
    "print('And the rating was', df['MRP Price'].max())"
   ]
  }
 ],
 "metadata": {
  "kernelspec": {
   "display_name": "Python 3",
   "language": "python",
   "name": "python3"
  },
  "language_info": {
   "codemirror_mode": {
    "name": "ipython",
    "version": 3
   },
   "file_extension": ".py",
   "mimetype": "text/x-python",
   "name": "python",
   "nbconvert_exporter": "python",
   "pygments_lexer": "ipython3",
   "version": "3.8.5"
  }
 },
 "nbformat": 4,
 "nbformat_minor": 4
}
